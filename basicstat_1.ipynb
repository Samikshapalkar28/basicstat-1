{
  "nbformat": 4,
  "nbformat_minor": 0,
  "metadata": {
    "colab": {
      "provenance": []
    },
    "kernelspec": {
      "name": "python3",
      "display_name": "Python 3"
    },
    "language_info": {
      "name": "python"
    }
  },
  "cells": [
    {
      "cell_type": "markdown",
      "source": [
        "1: What is the difference between descriptive statistics and inferential statistics? Explain with examples.\n",
        "\n",
        " - Descriptive statistics summarize and describe data using measures like mean, median, mode, range, and graphs. For example, reporting that the average sales of a store last month were 500 units is descriptive. Inferential statistics, on the other hand, use sample data to make predictions or generalizations about a larger population, often involving probability and hypothesis testing. For instance, using a survey of 100 customers to estimate the satisfaction level of all 1,000 customers and predicting trends involves inferential statistics. Essentially, descriptive tells “what the data shows,” while inferential predicts or infers about a bigger picture\n",
        "\n"
      ],
      "metadata": {
        "id": "Djyxb-NoMOyI"
      }
    },
    {
      "cell_type": "markdown",
      "source": [
        "2: What is sampling in statistics? Explain the differences between random and stratified sampling.\n",
        "\n",
        "- Sampling in statistics is the process of selecting a subset of individuals from a population to estimate characteristics of the whole population. In random sampling, every member of the population has an equal chance of being selected, like picking 50 students randomly from a school. In stratified sampling, the population is divided into subgroups (strata) based on a characteristic, and samples are drawn from each group proportionally, such as selecting students from each grade to ensure all grades are represented. Random sampling ensures simplicity, while stratified sampling ensures representation of key subgroups.\n",
        "\n"
      ],
      "metadata": {
        "id": "TxdwhLddMbzL"
      }
    },
    {
      "cell_type": "markdown",
      "source": [
        " 3: Define mean, median, and mode. Explain why these measures of central tendency are important\n",
        "\n",
        " - Mean is the average of all data points, calculated by adding them and dividing by the number of values. Median is the middle value when data is arranged in order, and mode is the value that occurs most frequently. These measures of central tendency are important because they summarize large datasets with a single representative value, helping to understand the overall pattern, compare groups, and make decisions based on typical or common outcomes."
      ],
      "metadata": {
        "id": "fqvZFQqNMq2f"
      }
    },
    {
      "cell_type": "markdown",
      "source": [
        " 4: Explain skewness and kurtosis. What does a positive skew imply about the data?\n",
        "\n",
        "Answer:\n",
        "Skewness measures the asymmetry of a data distribution, while kurtosis measures the “tailedness” or peak of the distribution. A positive skew means the tail on the right side is longer, indicating most data points are concentrated on the lower end with a few higher values pulling the mean to the right. This suggests the data has outliers or extreme high values.\n",
        "\n"
      ],
      "metadata": {
        "id": "3SiJjZ8dMv7H"
      }
    },
    {
      "cell_type": "code",
      "source": [
        "#  5: Implement a Python program to compute the mean, median, and mode of a given list of numbers.\n",
        "# numbers = [12, 15, 12, 18, 19, 12, 20, 22, 19, 19, 24, 24, 24, 26, 28]\n",
        "# (Include your Python code and output in the code box below.)\n",
        "\n",
        "# Importing required module\n",
        "from statistics import mean, median, mode\n",
        "\n",
        "# Given list of numbers\n",
        "numbers = [12, 15, 12, 18, 19, 12, 20, 22, 19, 19, 24, 24, 24, 26, 28]\n",
        "\n",
        "# Calculating mean, median, and mode\n",
        "mean_value = mean(numbers)\n",
        "median_value = median(numbers)\n",
        "mode_value = mode(numbers)\n",
        "\n",
        "# Displaying results\n",
        "print(f\"Mean: {mean_value}\")\n",
        "print(f\"Median: {median_value}\")\n",
        "print(f\"Mode: {mode_value}\")\n"
      ],
      "metadata": {
        "colab": {
          "base_uri": "https://localhost:8080/"
        },
        "id": "tou81RNNM8a9",
        "outputId": "5b07fbbd-0ceb-487b-f857-2b49b028449e"
      },
      "execution_count": 1,
      "outputs": [
        {
          "output_type": "stream",
          "name": "stdout",
          "text": [
            "Mean: 19.6\n",
            "Median: 19\n",
            "Mode: 12\n"
          ]
        }
      ]
    },
    {
      "cell_type": "code",
      "source": [
        "# 6: Compute the covariance and correlation coefficient between the following two datasets provided as lists in Python:\n",
        "# list_x = [10, 20, 30, 40, 50]\n",
        "# list_y = [15, 25, 35, 45, 60]\n",
        "\n",
        "# Importing required module\n",
        "import numpy as np\n",
        "\n",
        "# Given datasets\n",
        "list_x = [10, 20, 30, 40, 50]\n",
        "list_y = [15, 25, 35, 45, 60]\n",
        "\n",
        "# Calculating covariance\n",
        "cov_matrix = np.cov(list_x, list_y)\n",
        "cov_xy = cov_matrix[0, 1]\n",
        "\n",
        "# Calculating correlation coefficient\n",
        "corr_matrix = np.corrcoef(list_x, list_y)\n",
        "corr_xy = corr_matrix[0, 1]\n",
        "\n",
        "# Displaying results\n",
        "print(f\"Covariance: {cov_xy}\")\n",
        "print(f\"Correlation Coefficient: {corr_xy}\")\n",
        "\n"
      ],
      "metadata": {
        "colab": {
          "base_uri": "https://localhost:8080/"
        },
        "id": "rLiCDZT5NJM-",
        "outputId": "22ae3e26-1217-45be-fd5b-deceda23f8a5"
      },
      "execution_count": 2,
      "outputs": [
        {
          "output_type": "stream",
          "name": "stdout",
          "text": [
            "Covariance: 275.0\n",
            "Correlation Coefficient: 0.995893206467704\n"
          ]
        }
      ]
    },
    {
      "cell_type": "code",
      "source": [
        "# 7: Write a Python script to draw a boxplot for the following numeric list and identify its outliers. Explain the result:\n",
        "# data = [12, 14, 14, 15, 18, 19, 19, 21, 22, 22, 23, 23, 24, 26, 29, 35]\n",
        "\n",
        "# Importing required modules\n",
        "import matplotlib.pyplot as plt\n",
        "\n",
        "# Given data\n",
        "data = [12, 14, 14, 15, 18, 19, 19, 21, 22, 22, 23, 23, 24, 26, 29, 35]\n",
        "\n",
        "# Creating a boxplot\n",
        "plt.boxplot(data, vert=True, patch_artist=True)\n",
        "plt.title(\"Boxplot of Data\")\n",
        "plt.ylabel(\"Values\")\n",
        "plt.show()\n",
        "\n",
        "# Identifying outliers using IQR\n",
        "Q1 = np.percentile(data, 25)\n",
        "Q3 = np.percentile(data, 75)\n",
        "IQR = Q3 - Q1\n",
        "lower_bound = Q1 - 1.5 * IQR\n",
        "upper_bound = Q3 + 1.5 * IQR\n",
        "outliers = [x for x in data if x < lower_bound or x > upper_bound]\n",
        "\n",
        "print(f\"Outliers: {outliers}\")\n",
        "\n",
        "# The boxplot visually shows the distribution, median, and spread of the data.\n",
        "#  Outliers are values that lie beyond 1.5 times the interquartile range (IQR) from the quartiles.\n",
        "#  In this dataset, the value 35 is an outlier, indicating it is significantly higher than most other data point\n",
        "\n",
        "\n"
      ],
      "metadata": {
        "colab": {
          "base_uri": "https://localhost:8080/",
          "height": 469
        },
        "id": "UhNHhGaeNcde",
        "outputId": "d2f61dc5-bd0d-49b8-a70a-83650904793d"
      },
      "execution_count": 3,
      "outputs": [
        {
          "output_type": "display_data",
          "data": {
            "text/plain": [
              "<Figure size 640x480 with 1 Axes>"
            ],
            "image/png": "[encoded data removed]"
          },
          "metadata": {}
        },
        {
          "output_type": "stream",
          "name": "stdout",
          "text": [
            "Outliers: [35]\n"
          ]
        }
      ]
    },
    {
      "cell_type": "code",
      "source": [
        "# 8: You are working as a data analyst in an e-commerce company. The marketing team wants to know if there is a relationship between advertising spend and daily sales.\n",
        "# ● Explain how you would use covariance and correlation to explore this relationship.\n",
        "# ● Write Python code to compute the correlation between the two lists: advertising_spend = [200, 250, 300, 400, 500]\n",
        "# daily_sales = [2200, 2450, 2750, 3200, 4000]\n",
        "\n",
        "# To explore the relationship between advertising spend and daily sales,\n",
        "# covariance shows the direction of the relationship: a positive covariance indicates that as advertising spend increases, sales tend to increase, while a negative covariance indicates the opposite. However, covariance does not show the strength of the relationship. Correlation coefficient, which ranges from -1 to 1, quantifies both the direction and strength of the relationship. A value close to 1 indicates a strong positive relationship, 0 indicates no relationship, and -1 indicates a strong negative relationship.\n",
        "# Importing required module\n",
        "import numpy as np\n",
        "\n",
        "# Given data\n",
        "advertising_spend = [200, 250, 300, 400, 500]\n",
        "daily_sales = [2200, 2450, 2750, 3200, 4000]\n",
        "\n",
        "# Calculating covariance\n",
        "cov_matrix = np.cov(advertising_spend, daily_sales)\n",
        "cov_xy = cov_matrix[0, 1]\n",
        "\n",
        "# Calculating correlation coefficient\n",
        "corr_matrix = np.corrcoef(advertising_spend, daily_sales)\n",
        "corr_xy = corr_matrix[0, 1]\n",
        "\n",
        "# Displaying results\n",
        "print(f\"Covariance: {cov_xy}\")\n",
        "print(f\"Correlation Coefficient: {corr_xy}\")\n",
        "\n"
      ],
      "metadata": {
        "colab": {
          "base_uri": "https://localhost:8080/"
        },
        "id": "7Ry-eFyZNvOE",
        "outputId": "d1f8a08b-8e9b-4413-b10e-05c9d16a231b"
      },
      "execution_count": 5,
      "outputs": [
        {
          "output_type": "stream",
          "name": "stdout",
          "text": [
            "Covariance: 84875.0\n",
            "Correlation Coefficient: 0.9935824101653329\n"
          ]
        }
      ]
    },
    {
      "cell_type": "code",
      "source": [
        "# 9 Your team has collected customer satisfaction survey data on a scale of 1-10 and wants to understand its distribution before launching a new product.\n",
        "# ● Explain which summary statistics and visualizations (e.g. mean, standard deviation, histogram) you’d use.\n",
        "# ● Write Python code to create a histogram using Matplotlib for the survey data:\n",
        "# survey_scores = [7, 8, 5, 9, 6, 7, 8, 9, 10, 4, 7, 6, 9, 8, 7]\n",
        "\n",
        "# To understand the distribution of customer satisfaction scores, I would use summary statistics like mean (average satisfaction), median (central tendency), mode (most common score), and standard deviation (spread of scores). Visualizations like a histogram show the frequency of each score, revealing patterns such as skewness, clustering, or outliers.\n",
        "# Importing required modules\n",
        "import matplotlib.pyplot as plt\n",
        "import numpy as np\n",
        "\n",
        "# Survey data\n",
        "survey_scores = [7, 8, 5, 9, 6, 7, 8, 9, 10, 4, 7, 6, 9, 8, 7]\n",
        "\n",
        "# Calculating basic statistics\n",
        "mean_score = np.mean(survey_scores)\n",
        "median_score = np.median(survey_scores)\n",
        "std_dev = np.std(survey_scores)\n",
        "\n",
        "print(f\"Mean: {mean_score}, Median: {median_score}, Standard Deviation: {std_dev}\")\n",
        "\n",
        "# Creating a histogram\n",
        "plt.hist(survey_scores, bins=range(4,12), edgecolor='black', color='skyblue')\n",
        "plt.title(\"Histogram of Customer Satisfaction Scores\")\n",
        "plt.xlabel(\"Scores\")\n",
        "plt.ylabel(\"Frequency\")\n",
        "plt.xticks(range(4,11))\n",
        "plt.show()\n"
      ],
      "metadata": {
        "colab": {
          "base_uri": "https://localhost:8080/",
          "height": 489
        },
        "id": "d_sdNtzKOD9v",
        "outputId": "344c3590-620f-45c4-e7f8-11d4dc98c7a6"
      },
      "execution_count": 6,
      "outputs": [
        {
          "output_type": "stream",
          "name": "stdout",
          "text": [
            "Mean: 7.333333333333333, Median: 7.0, Standard Deviation: 1.577621275493231\n"
          ]
        },
        {
          "output_type": "display_data",
          "data": {
            "text/plain": [
              "<Figure size 640x480 with 1 Axes>"
            ],
            "image/png": "[encoded data removed]"
          },
          "metadata": {}
        }
      ]
    }
  ]
}